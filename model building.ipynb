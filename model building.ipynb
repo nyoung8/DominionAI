{
 "cells": [
  {
   "cell_type": "code",
   "execution_count": 1,
   "metadata": {},
   "outputs": [
    {
     "name": "stderr",
     "output_type": "stream",
     "text": [
      "Using TensorFlow backend.\n"
     ]
    },
    {
     "name": "stdout",
     "output_type": "stream",
     "text": [
      "importing Jupyter notebook from quickplay.ipynb\n"
     ]
    }
   ],
   "source": [
    "from keras.models import Sequential\n",
    "from keras.layers import Dense, Dropout\n",
    "import numpy as np\n",
    "import sys\n",
    "import import_ipynb\n",
    "import quickplay\n",
    "import traceback\n",
    "#traceback.print_stack()\n"
   ]
  },
  {
   "cell_type": "code",
   "execution_count": 6,
   "metadata": {},
   "outputs": [],
   "source": [
    "def log_traceback(ex, sim):\n",
    "    tb_lines = traceback.format_exception(ex.__class__, ex, ex.__traceback__)\n",
    "    tb_text = ''.join(tb_lines)\n",
    "    # I'll let you implement the ExceptionLogger class,\n",
    "    # and the timestamping.\n",
    "    print(tb_text)\n",
    "    print(\"info: \")\n",
    "    print(\"\\t\",sim.p1.turn)\n",
    "    print(\"\\t\",sim.shop.cards)\n",
    "    print(\"\\t\",sim.shop.checkEnd())\n",
    "    print(\"\\tp1\")\n",
    "    print(\"\\t\",sim.p1.hand)\n",
    "    print(\"\\t\",sim.p1.deck)\n",
    "    print(\"\\t\",sim.p1.discard)\n",
    "    print(\"\\tp2\")\n",
    "    print(\"\\t\",sim.p2.hand)\n",
    "    print(\"\\t\",sim.p2.deck)\n",
    "    print(\"\\t\",sim.p2.discard)\n",
    "\n"
   ]
  },
  {
   "cell_type": "code",
   "execution_count": 7,
   "metadata": {},
   "outputs": [
    {
     "name": "stdout",
     "output_type": "stream",
     "text": [
      "Time = 0:00:00.515257\n",
      "47\n",
      "53\n"
     ]
    }
   ],
   "source": [
    "from datetime import datetime\n",
    "\n",
    "start = datetime.now()\n",
    "\n",
    "x=quickplay.Simulation()\n",
    "wins = [0]*100\n",
    "for i in range(len(wins)):\n",
    "    j=0\n",
    "    while True:\n",
    "        j+=1\n",
    "        if x.p1.turn == x.p2.turn:\n",
    "            player = x.p1\n",
    "        else: \n",
    "            player = x.p2\n",
    "        try:\n",
    "            new_s, reward, end = x.makeDecision(player,1)\n",
    "        except Exception as ex:\n",
    "            log_traceback(ex, x)\n",
    "            sys.exit()\n",
    "        if end:\n",
    "            break\n",
    "            \n",
    "    if x.p1.getVP() > x.p2.getVP():\n",
    "        wins[i]=1\n",
    "    else:\n",
    "        wins[i]=2\n",
    "    x=quickplay.Simulation()\n",
    "#print(str(wins))\n",
    "finish = datetime.now()\n",
    "print(\"Time =\", str(finish-start))\n",
    "print(wins.count(1))\n",
    "print(wins.count(2))\n",
    "\n",
    "\n"
   ]
  },
  {
   "cell_type": "code",
   "execution_count": 8,
   "metadata": {},
   "outputs": [],
   "source": [
    "model = Sequential()\n",
    "model.add(Dense(10, activation='sigmoid', input_shape=(18,)))\n",
    "model.add(Dense(2, activation='linear'))\n",
    "model.compile(loss='mse', optimizer='adam', metrics=['mae'])"
   ]
  },
  {
   "cell_type": "code",
   "execution_count": 9,
   "metadata": {},
   "outputs": [
    {
     "name": "stdout",
     "output_type": "stream",
     "text": [
      "Episode 1 of 50\n",
      "Episode 6 of 50\n",
      "Episode 11 of 50\n",
      "Episode 16 of 50\n",
      "Episode 21 of 50\n",
      "Episode 26 of 50\n",
      "Episode 31 of 50\n",
      "Episode 36 of 50\n",
      "Episode 41 of 50\n",
      "Episode 46 of 50\n"
     ]
    }
   ],
   "source": [
    "y = 0.95\n",
    "eps = 0.5\n",
    "decay_factor = 0.999\n",
    "game_lengths = []\n",
    "num_episodes = 200\n",
    "for i in range(num_episodes):\n",
    "    sim = quickplay.Simulation()\n",
    "    eps *= decay_factor\n",
    "    if i % 9 == 0:\n",
    "        print(\"Episode {} of {}\".format(i + 1, num_episodes))\n",
    "    done = False\n",
    "    turns = 0\n",
    "    while not done:\n",
    "        if x.p1.turn == x.p2.turn:\n",
    "            player = x.p1\n",
    "        else: \n",
    "            player = x.p2\n",
    "        current_state = np.array(sim.getBuyState(player))\n",
    "        if np.random.random() < eps:\n",
    "            action = np.random.randint(0, 2)\n",
    "        else:\n",
    "            action = np.argmax(model.predict(current_state))\n",
    "        try:\n",
    "            new_state, reward, done = sim.makeDecision(player, action)\n",
    "            new_state = np.array(new_state)\n",
    "        except Exception as ex:\n",
    "            log_traceback(ex, sim)\n",
    "            sys.exit()\n",
    "        target = reward + y * np.max(model.predict(new_state))\n",
    "        target_vec = model.predict(current_state)[0]\n",
    "        target_vec[action] = target\n",
    "        model.fit(current_state, target_vec.reshape(-1, 2), epochs=1, verbose=0)\n",
    "    game_lengths.append(sim.p1.turn)"
   ]
  },
  {
   "cell_type": "code",
   "execution_count": 15,
   "metadata": {},
   "outputs": [
    {
     "data": {
      "text/plain": [
       "2"
      ]
     },
     "execution_count": 15,
     "metadata": {},
     "output_type": "execute_result"
    }
   ],
   "source": [
    "print(game_lengths)"
   ]
  },
  {
   "cell_type": "code",
   "execution_count": 13,
   "metadata": {},
   "outputs": [
    {
     "name": "stdout",
     "output_type": "stream",
     "text": [
      "(1, 18)\n",
      "[[0, 0, 0, 0, 0, 0, 0, 0, 0, 0, 7, 0, 0, 3, 0, 0, 1, 3]]\n"
     ]
    }
   ],
   "source": [
    "print(np.shape(sim.getBuyState(player)))\n",
    "print(sim.getBuyState(player))"
   ]
  },
  {
   "cell_type": "code",
   "execution_count": 11,
   "metadata": {},
   "outputs": [
    {
     "name": "stdout",
     "output_type": "stream",
     "text": [
      "(1, 21)\n",
      "2\n"
     ]
    }
   ],
   "source": [
    "arrTest1 = np.array([[0.1, 0.1, 0.1, 0.1, 0.1, 0.5, 0.1, 0., 0.1, 0.6, 0.1, 0.1, 0., 0., 0., 0.1, 0., 0., 0.1, 0., 0.]])"
   ]
  },
  {
   "cell_type": "code",
   "execution_count": null,
   "metadata": {},
   "outputs": [],
   "source": []
  }
 ],
 "metadata": {
  "kernelspec": {
   "display_name": "Python 3",
   "language": "python",
   "name": "python3"
  },
  "language_info": {
   "codemirror_mode": {
    "name": "ipython",
    "version": 3
   },
   "file_extension": ".py",
   "mimetype": "text/x-python",
   "name": "python",
   "nbconvert_exporter": "python",
   "pygments_lexer": "ipython3",
   "version": "3.7.4"
  }
 },
 "nbformat": 4,
 "nbformat_minor": 2
}
