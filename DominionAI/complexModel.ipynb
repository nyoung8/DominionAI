{
 "cells": [
  {
   "cell_type": "code",
   "execution_count": 1,
   "metadata": {},
   "outputs": [
    {
     "name": "stderr",
     "output_type": "stream",
     "text": [
      "Using TensorFlow backend.\n"
     ]
    },
    {
     "name": "stdout",
     "output_type": "stream",
     "text": [
      "importing Jupyter notebook from cardChoice.ipynb\n"
     ]
    }
   ],
   "source": [
    "from keras.models import Sequential\n",
    "from keras.layers import Dense, Dropout\n",
    "import numpy as np\n",
    "import sys\n",
    "import import_ipynb\n",
    "import cardChoice\n",
    "import traceback\n",
    "from datetime import datetime\n",
    "\n",
    "\n",
    "import matplotlib.pyplot as plt\n",
    "#traceback.print_stack()\n"
   ]
  },
  {
   "cell_type": "code",
   "execution_count": 2,
   "metadata": {},
   "outputs": [],
   "source": [
    "def log_traceback(ex, sim):\n",
    "    tb_lines = traceback.format_exception(ex.__class__, ex, ex.__traceback__)\n",
    "    tb_text = ''.join(tb_lines)\n",
    "    # I'll let you implement the ExceptionLogger class,\n",
    "    # and the timestamping.\n",
    "    print(tb_text)\n",
    "    print(\"info: \")\n",
    "    print(\"\\t\",sim.p1.turn)\n",
    "    print(\"\\t\",sim.shop.cards)\n",
    "    print(\"\\t\",sim.shop.checkEnd())\n",
    "    print(\"\\tp1\")\n",
    "    print(\"\\t\",sim.p1.hand)\n",
    "    print(\"\\t\",sim.p1.deck)\n",
    "    print(\"\\t\",sim.p1.discard)\n",
    "    print(\"\\tp2\")\n",
    "    print(\"\\t\",sim.p2.hand)\n",
    "    print(\"\\t\",sim.p2.deck)\n",
    "    print(\"\\t\",sim.p2.discard)\n",
    "\n"
   ]
  },
  {
   "cell_type": "code",
   "execution_count": 3,
   "metadata": {},
   "outputs": [],
   "source": [
    "model = Sequential()\n",
    "model.add(Dense(20, activation='sigmoid', input_shape=(18,)))\n",
    "model.add(Dense(100, activation='linear'))\n",
    "model.add(Dense(64, activation='linear'))\n",
    "#model.add(Dense(512, activation='relu'))\n",
    "#model.add(Dense(256, activation='relu'))\n",
    "#model.add(Dense(128, activation='relu'))\n",
    "model.add(Dense(4, activation='linear'))\n",
    "model.compile(loss='mse', optimizer='adam', metrics=['mae'])"
   ]
  },
  {
   "cell_type": "code",
   "execution_count": 4,
   "metadata": {},
   "outputs": [
    {
     "name": "stdout",
     "output_type": "stream",
     "text": [
      "Episode 100 of 2000\n",
      "Episode 200 of 2000\n",
      "Episode 300 of 2000\n",
      "Episode 400 of 2000\n",
      "Episode 500 of 2000\n",
      "Episode 600 of 2000\n",
      "Episode 700 of 2000\n",
      "Episode 800 of 2000\n",
      "Episode 900 of 2000\n",
      "Episode 1000 of 2000\n",
      "Episode 1100 of 2000\n",
      "Episode 1200 of 2000\n",
      "Episode 1300 of 2000\n",
      "Episode 1400 of 2000\n",
      "Episode 1500 of 2000\n",
      "Episode 1600 of 2000\n",
      "Episode 1700 of 2000\n",
      "Episode 1800 of 2000\n",
      "Episode 1900 of 2000\n",
      "Episode 2000 of 2000\n",
      "Time = 0:12:56.989450\n"
     ]
    }
   ],
   "source": [
    "y = 0.95\n",
    "eps = 0.5\n",
    "decay_factor = 0.999\n",
    "game_lengths = []\n",
    "num_episodes = 2000\n",
    "start = datetime.now()\n",
    "for i in range(num_episodes):\n",
    "    sim = cardChoice.Simulation()\n",
    "    eps *= decay_factor\n",
    "    if (i+1) % 100 == 0:\n",
    "        print(\"Episode {} of {}\".format(i + 1, num_episodes))\n",
    "    done = False\n",
    "    turns = 0\n",
    "    while not done:\n",
    "        if sim.p1.turn == sim.p2.turn:\n",
    "            player = sim.p1\n",
    "        else: \n",
    "            player = sim.p2\n",
    "        current_state = np.array(sim.getBuyState(player))\n",
    "        if np.random.random() < eps:\n",
    "            action = np.random.randint(0, 4)\n",
    "        else:\n",
    "            action = np.argmax(model.predict(current_state))\n",
    "        try:\n",
    "            new_state, reward, done = sim.makeDecision(player, action)\n",
    "            new_state = np.array(new_state)\n",
    "        except Exception as ex:\n",
    "            log_traceback(ex, sim)\n",
    "            sys.exit()\n",
    "        target = reward + y * np.max(model.predict(new_state))\n",
    "        target_vec = model.predict(current_state)[0]\n",
    "        target_vec[action] = target\n",
    "        model.fit(current_state, target_vec.reshape(-1, 4), epochs=1, verbose=0)\n",
    "    game_lengths.append(sim.p1.turn)\n",
    "\n",
    "finish = datetime.now()\n",
    "print(\"Time =\", str(finish-start))\n",
    "\n",
    "x=range(1,1+num_episodes)\n",
    "y=game_lengths\n",
    "\n"
   ]
  },
  {
   "cell_type": "code",
   "execution_count": 5,
   "metadata": {},
   "outputs": [
    {
     "data": {
      "text/plain": [
       "[<matplotlib.lines.Line2D at 0x7f7f0ede6310>]"
      ]
     },
     "execution_count": 5,
     "metadata": {},
     "output_type": "execute_result"
    },
    {
     "data": {
      "image/png": "[encoded data removed]",
      "text/plain": [
       "<Figure size 432x288 with 1 Axes>"
      ]
     },
     "metadata": {
      "needs_background": "light"
     },
     "output_type": "display_data"
    }
   ],
   "source": [
    "# Area plot\n",
    "x=range(1,1+num_episodes)\n",
    "y=game_lengths\n",
    "plt.plot(x, y)\n"
   ]
  },
  {
   "cell_type": "code",
   "execution_count": 6,
   "metadata": {},
   "outputs": [],
   "source": [
    "import statistics as math\n",
    "def subgraph(interval, num_episodes, y):\n",
    "    avgs = []\n",
    "    for i in range(int(num_episodes/interval)):\n",
    "        avgs.append(math.mean(y[i*interval:(i+1)*interval]))\n",
    "    plt.plot(range(1,1+len(avgs)), avgs)"
   ]
  },
  {
   "cell_type": "code",
   "execution_count": 7,
   "metadata": {},
   "outputs": [
    {
     "data": {
      "image/png": "[encoded data removed]",
      "text/plain": [
       "<Figure size 432x288 with 1 Axes>"
      ]
     },
     "metadata": {
      "needs_background": "light"
     },
     "output_type": "display_data"
    }
   ],
   "source": [
    "subgraph(25, num_episodes, game_lengths)"
   ]
  },
  {
   "cell_type": "code",
   "execution_count": 8,
   "metadata": {},
   "outputs": [
    {
     "data": {
      "image/png": "[encoded data removed]",
      "text/plain": [
       "<Figure size 432x288 with 1 Axes>"
      ]
     },
     "metadata": {
      "needs_background": "light"
     },
     "output_type": "display_data"
    }
   ],
   "source": [
    "subgraph(50, num_episodes, game_lengths)"
   ]
  },
  {
   "cell_type": "code",
   "execution_count": 9,
   "metadata": {},
   "outputs": [],
   "source": [
    "model.save(\"dense_2000\")"
   ]
  },
  {
   "cell_type": "code",
   "execution_count": 11,
   "metadata": {},
   "outputs": [],
   "source": [
    "from tensorflow import keras\n",
    "loadedModel = keras.models.load_model('complex_1000')"
   ]
  },
  {
   "cell_type": "code",
   "execution_count": 12,
   "metadata": {},
   "outputs": [
    {
     "name": "stdout",
     "output_type": "stream",
     "text": [
      "Model: \"sequential_1\"\n",
      "_________________________________________________________________\n",
      "Layer (type)                 Output Shape              Param #   \n",
      "=================================================================\n",
      "dense_1 (Dense)              (None, 20)                380       \n",
      "_________________________________________________________________\n",
      "dense_2 (Dense)              (None, 64)                1344      \n",
      "_________________________________________________________________\n",
      "dense_3 (Dense)              (None, 64)                4160      \n",
      "_________________________________________________________________\n",
      "dense_4 (Dense)              (None, 4)                 260       \n",
      "=================================================================\n",
      "Total params: 6,144\n",
      "Trainable params: 6,144\n",
      "Non-trainable params: 0\n",
      "_________________________________________________________________\n",
      "None\n"
     ]
    }
   ],
   "source": [
    "print(loadedModel.summary())"
   ]
  },
  {
   "cell_type": "code",
   "execution_count": null,
   "metadata": {},
   "outputs": [],
   "source": []
  }
 ],
 "metadata": {
  "kernelspec": {
   "display_name": "Python 3",
   "language": "python",
   "name": "python3"
  },
  "language_info": {
   "codemirror_mode": {
    "name": "ipython",
    "version": 3
   },
   "file_extension": ".py",
   "mimetype": "text/x-python",
   "name": "python",
   "nbconvert_exporter": "python",
   "pygments_lexer": "ipython3",
   "version": "3.7.4"
  }
 },
 "nbformat": 4,
 "nbformat_minor": 2
}
